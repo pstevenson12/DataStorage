{
 "cells": [
  {
   "cell_type": "code",
   "execution_count": 1,
   "metadata": {},
   "outputs": [],
   "source": [
    "import numpy as np\n",
    "import matplotlib as mpl\n",
    "import matplotlib.pyplot as plt\n",
    "import scipy.io as sio\n",
    "import collections\n",
    "import lmfit as lm\n",
    "mpl.rc('font',**{'family':'sans-serif','sans-serif':['Helvetica']})\n",
    "mpl.rc('text', usetex='false') \n",
    "mpl.rcParams.update({'font.size': 8})\n",
    "\n",
    "plt.rcParams['pdf.fonttype'] = 42\n",
    "plt.rcParams['ps.fonttype'] = 42\n",
    "plt.rcParams.update({'mathtext.default':  'regular' })\n",
    "%matplotlib notebook\n",
    "%matplotlib notebook"
   ]
  },
  {
   "cell_type": "code",
   "execution_count": 2,
   "metadata": {},
   "outputs": [],
   "source": [
    "loadnames = ['2_TiSapp_TwoColor_07deg_Si29_880_895_va24_LF_CTL946p73_4s_500ms_OD04_11mWat880.mat','6_TiSapp_TwoColor_07deg_880_895_va30_LF_CTL947_4s_500ms_OD04_10mWat895.mat',\n",
    "            'OH_800_900_5p5K_Si29.mat','Picard_800_900_5p5K_Si28.mat']\n",
    "dictnames = ['Si29OH','Si28Si30OH','Si29OHwide','Si28Picard']\n",
    "IsotopeData = collections.defaultdict(dict)\n",
    "for fname,sname in zip(loadnames[0:2],dictnames[0:2]):\n",
    "    datain = sio.loadmat(fname)\n",
    "    keyname = list(datain.keys())[5]\n",
    "    keynameWL = list(datain.keys())[-7]\n",
    "    rawdat1 = datain[keyname].flatten()\n",
    "    rawdat2 = datain[keynameWL].flatten()\n",
    "    IsotopeData[sname]['Wavelength'] = rawdat2\n",
    "    IsotopeData[sname]['SpinPol'] = rawdat1\n",
    "for fname,sname in zip(loadnames[2:4],dictnames[2:4]):\n",
    "    datain = sio.loadmat(fname)\n",
    "    keyname = list(datain.keys())[4]\n",
    "    keynameWL = list(datain.keys())[-5]\n",
    "    rawdat1 = datain[keyname].flatten()\n",
    "    rawdat2 = datain[keynameWL].flatten()\n",
    "    IsotopeData[sname]['Wavelength'] = rawdat2\n",
    "    IsotopeData[sname]['SpinPol'] = rawdat1"
   ]
  },
  {
   "cell_type": "code",
   "execution_count": 3,
   "metadata": {},
   "outputs": [
    {
     "data": {
      "text/plain": [
       "dict_keys(['__header__', '__version__', '__globals__', 'xvals', 'yvals', 'h', 'va', 'T'])"
      ]
     },
     "execution_count": 3,
     "metadata": {},
     "output_type": "execute_result"
    }
   ],
   "source": [
    "datain.keys()"
   ]
  },
  {
   "cell_type": "code",
   "execution_count": 4,
   "metadata": {
    "scrolled": true
   },
   "outputs": [
    {
     "name": "stderr",
     "output_type": "stream",
     "text": [
      "C:\\ProgramData\\Anaconda3\\lib\\site-packages\\matplotlib\\font_manager.py:1331: UserWarning: findfont: Font family ['sans-serif'] not found. Falling back to DejaVu Sans\n",
      "  (prop.get_family(), self.defaultFamily[fontext]))\n"
     ]
    },
    {
     "data": {
      "image/png": "[encoded data removed]",
      "text/plain": [
       "<Figure size 243.78x121.89 with 2 Axes>"
      ]
     },
     "metadata": {
      "needs_background": "light"
     },
     "output_type": "display_data"
    }
   ],
   "source": [
    "mm = 1/25.4\n",
    "\n",
    "fig,ax = plt.subplots(1,2,figsize=(86*mm, 86/2*mm))\n",
    "ax[0].tick_params(direction='in',length = 2)\n",
    "ax[1].tick_params(direction='in',length = 2)\n",
    "color = ['r','b']\n",
    "[ax[1].plot(IsotopeData[keyname]['Wavelength'],IsotopeData[keyname]['SpinPol']/np.max(IsotopeData[keyname]['SpinPol']),linewidth = 1) for keyname in list(IsotopeData.keys())[0:2]]\n",
    "ax[1].set_xlabel(\"Wavelength [nm]\")\n",
    "ax[1].set_ylabel(\"Spin Polarization [AU]\")\n",
    "ax[1].set_yscale('linear')\n",
    "ax[1].set_yticks([0,0.5,1.0])\n",
    "ax[1].set_ylim(0,1.1)\n",
    "ax[1].set_xlim(882,892)\n",
    "ax[1].text(-0.25, 1.1, '(a)', transform=ax[0].transAxes, va='top', ha='right')\n",
    "ax[1].legend(('29Si','28Si & 30Si'),framealpha=0,handlelength = 1,fontsize = 7)\n",
    "\n",
    "[ax[0].plot(IsotopeData[keyname]['Wavelength'],IsotopeData[keyname]['SpinPol']/np.max(IsotopeData[keyname]['SpinPol']),linewidth = 1) for keyname in list(IsotopeData.keys())[2:4]]\n",
    "ax[0].set_xlabel(\"Wavelength [nm]\")\n",
    "ax[0].set_ylabel(\"Spin Polarization [AU]\")\n",
    "ax[0].set_yscale('linear')\n",
    "ax[0].set_xlim(827,836)\n",
    "ax[0].set_ylim(-0.5,1.1)\n",
    "ax[0].text(-0.31, 1.1, '(b)', transform=ax[1].transAxes, va='top', ha='right')\n",
    "ax[0].legend(('29Si','28Si'),framealpha=0,handlelength = 1,fontsize = 7)\n",
    "plt.tight_layout()\n",
    "\n",
    "fig1 = plt.gcf()\n",
    "plt.show()\n",
    "fig1.savefig('Fig3_Isotope.pdf', format='pdf')"
   ]
  },
  {
   "cell_type": "code",
   "execution_count": 5,
   "metadata": {},
   "outputs": [
    {
     "data": {
      "text/plain": [
       "'r'"
      ]
     },
     "execution_count": 5,
     "metadata": {},
     "output_type": "execute_result"
    }
   ],
   "source": [
    "color[0]"
   ]
  },
  {
   "cell_type": "code",
   "execution_count": 6,
   "metadata": {},
   "outputs": [
    {
     "data": {
      "text/plain": [
       "['Si29OH', 'Si28Si30OH', 'Si29OHwide', 'Si28Picard']"
      ]
     },
     "execution_count": 6,
     "metadata": {},
     "output_type": "execute_result"
    }
   ],
   "source": [
    "list(IsotopeData.keys())"
   ]
  },
  {
   "cell_type": "code",
   "execution_count": null,
   "metadata": {},
   "outputs": [],
   "source": []
  }
 ],
 "metadata": {
  "kernelspec": {
   "display_name": "Python 3",
   "language": "python",
   "name": "python3"
  },
  "language_info": {
   "codemirror_mode": {
    "name": "ipython",
    "version": 3
   },
   "file_extension": ".py",
   "mimetype": "text/x-python",
   "name": "python",
   "nbconvert_exporter": "python",
   "pygments_lexer": "ipython3",
   "version": "3.7.0"
  }
 },
 "nbformat": 4,
 "nbformat_minor": 2
}
